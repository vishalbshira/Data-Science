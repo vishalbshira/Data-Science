{
 "cells": [
  {
   "cell_type": "markdown",
   "metadata": {},
   "source": [
    "## Introuction:\n",
    "In this notebook, I have implemted Gradient Descent Alogorithm for Linear regression. I have also compared the results with Sci-kit learn LinearRgression model. From this notebook, we can learn how to use gradient descent algorithm to optimize the cost function."
   ]
  },
  {
   "cell_type": "code",
   "execution_count": 1,
   "metadata": {},
   "outputs": [],
   "source": [
    "# Import required libraries\n",
    "import pandas as pd\n",
    "import matplotlib.pyplot as plt\n",
    "import numpy as np\n",
    "from sklearn import preprocessing"
   ]
  },
  {
   "cell_type": "code",
   "execution_count": 2,
   "metadata": {},
   "outputs": [],
   "source": [
    "# read file\n",
    "df = pd.read_csv('dataset/train.csv')"
   ]
  },
  {
   "cell_type": "markdown",
   "metadata": {},
   "source": [
    "## Display all columns"
   ]
  },
  {
   "cell_type": "code",
   "execution_count": 3,
   "metadata": {},
   "outputs": [],
   "source": [
    "pd.options.display.max_columns = None\n",
    "pd.options.display.max_rows = None"
   ]
  },
  {
   "cell_type": "code",
   "execution_count": 4,
   "metadata": {},
   "outputs": [],
   "source": [
    "df = df[['GrLivArea', 'TotalBsmtSF', 'SalePrice']]"
   ]
  },
  {
   "cell_type": "code",
   "execution_count": 5,
   "metadata": {},
   "outputs": [
    {
     "data": {
      "text/html": [
       "<div>\n",
       "<style scoped>\n",
       "    .dataframe tbody tr th:only-of-type {\n",
       "        vertical-align: middle;\n",
       "    }\n",
       "\n",
       "    .dataframe tbody tr th {\n",
       "        vertical-align: top;\n",
       "    }\n",
       "\n",
       "    .dataframe thead th {\n",
       "        text-align: right;\n",
       "    }\n",
       "</style>\n",
       "<table border=\"1\" class=\"dataframe\">\n",
       "  <thead>\n",
       "    <tr style=\"text-align: right;\">\n",
       "      <th></th>\n",
       "      <th>GrLivArea</th>\n",
       "      <th>TotalBsmtSF</th>\n",
       "      <th>SalePrice</th>\n",
       "    </tr>\n",
       "  </thead>\n",
       "  <tbody>\n",
       "    <tr>\n",
       "      <td>count</td>\n",
       "      <td>1460.000000</td>\n",
       "      <td>1460.000000</td>\n",
       "      <td>1460.000000</td>\n",
       "    </tr>\n",
       "    <tr>\n",
       "      <td>mean</td>\n",
       "      <td>1515.463699</td>\n",
       "      <td>1057.429452</td>\n",
       "      <td>180921.195890</td>\n",
       "    </tr>\n",
       "    <tr>\n",
       "      <td>std</td>\n",
       "      <td>525.480383</td>\n",
       "      <td>438.705324</td>\n",
       "      <td>79442.502883</td>\n",
       "    </tr>\n",
       "    <tr>\n",
       "      <td>min</td>\n",
       "      <td>334.000000</td>\n",
       "      <td>0.000000</td>\n",
       "      <td>34900.000000</td>\n",
       "    </tr>\n",
       "    <tr>\n",
       "      <td>25%</td>\n",
       "      <td>1129.500000</td>\n",
       "      <td>795.750000</td>\n",
       "      <td>129975.000000</td>\n",
       "    </tr>\n",
       "    <tr>\n",
       "      <td>50%</td>\n",
       "      <td>1464.000000</td>\n",
       "      <td>991.500000</td>\n",
       "      <td>163000.000000</td>\n",
       "    </tr>\n",
       "    <tr>\n",
       "      <td>75%</td>\n",
       "      <td>1776.750000</td>\n",
       "      <td>1298.250000</td>\n",
       "      <td>214000.000000</td>\n",
       "    </tr>\n",
       "    <tr>\n",
       "      <td>max</td>\n",
       "      <td>5642.000000</td>\n",
       "      <td>6110.000000</td>\n",
       "      <td>755000.000000</td>\n",
       "    </tr>\n",
       "  </tbody>\n",
       "</table>\n",
       "</div>"
      ],
      "text/plain": [
       "         GrLivArea  TotalBsmtSF      SalePrice\n",
       "count  1460.000000  1460.000000    1460.000000\n",
       "mean   1515.463699  1057.429452  180921.195890\n",
       "std     525.480383   438.705324   79442.502883\n",
       "min     334.000000     0.000000   34900.000000\n",
       "25%    1129.500000   795.750000  129975.000000\n",
       "50%    1464.000000   991.500000  163000.000000\n",
       "75%    1776.750000  1298.250000  214000.000000\n",
       "max    5642.000000  6110.000000  755000.000000"
      ]
     },
     "execution_count": 5,
     "metadata": {},
     "output_type": "execute_result"
    }
   ],
   "source": [
    "df.describe()"
   ]
  },
  {
   "cell_type": "code",
   "execution_count": 6,
   "metadata": {
    "scrolled": true
   },
   "outputs": [
    {
     "data": {
      "text/plain": [
       "Index(['GrLivArea', 'TotalBsmtSF', 'SalePrice'], dtype='object')"
      ]
     },
     "execution_count": 6,
     "metadata": {},
     "output_type": "execute_result"
    }
   ],
   "source": [
    "df.keys()"
   ]
  },
  {
   "cell_type": "code",
   "execution_count": 7,
   "metadata": {
    "scrolled": true
   },
   "outputs": [
    {
     "name": "stdout",
     "output_type": "stream",
     "text": [
      "<class 'pandas.core.frame.DataFrame'>\n",
      "RangeIndex: 1460 entries, 0 to 1459\n",
      "Data columns (total 3 columns):\n",
      "GrLivArea      1460 non-null int64\n",
      "TotalBsmtSF    1460 non-null int64\n",
      "SalePrice      1460 non-null int64\n",
      "dtypes: int64(3)\n",
      "memory usage: 34.3 KB\n"
     ]
    }
   ],
   "source": [
    "df.info()"
   ]
  },
  {
   "cell_type": "code",
   "execution_count": 8,
   "metadata": {
    "scrolled": true
   },
   "outputs": [
    {
     "data": {
      "text/plain": [
       "TotalBsmtSF    0.613581\n",
       "GrLivArea      0.708624\n",
       "SalePrice      1.000000\n",
       "Name: SalePrice, dtype: float64"
      ]
     },
     "execution_count": 8,
     "metadata": {},
     "output_type": "execute_result"
    }
   ],
   "source": [
    "df.corr().sort_values('SalePrice')['SalePrice']"
   ]
  },
  {
   "cell_type": "code",
   "execution_count": 9,
   "metadata": {},
   "outputs": [
    {
     "data": {
      "text/html": [
       "<div>\n",
       "<style scoped>\n",
       "    .dataframe tbody tr th:only-of-type {\n",
       "        vertical-align: middle;\n",
       "    }\n",
       "\n",
       "    .dataframe tbody tr th {\n",
       "        vertical-align: top;\n",
       "    }\n",
       "\n",
       "    .dataframe thead th {\n",
       "        text-align: right;\n",
       "    }\n",
       "</style>\n",
       "<table border=\"1\" class=\"dataframe\">\n",
       "  <thead>\n",
       "    <tr style=\"text-align: right;\">\n",
       "      <th></th>\n",
       "      <th>GrLivArea</th>\n",
       "      <th>TotalBsmtSF</th>\n",
       "      <th>SalePrice</th>\n",
       "    </tr>\n",
       "  </thead>\n",
       "  <tbody>\n",
       "    <tr>\n",
       "      <td>0</td>\n",
       "      <td>1710</td>\n",
       "      <td>856</td>\n",
       "      <td>208500</td>\n",
       "    </tr>\n",
       "    <tr>\n",
       "      <td>1</td>\n",
       "      <td>1262</td>\n",
       "      <td>1262</td>\n",
       "      <td>181500</td>\n",
       "    </tr>\n",
       "    <tr>\n",
       "      <td>2</td>\n",
       "      <td>1786</td>\n",
       "      <td>920</td>\n",
       "      <td>223500</td>\n",
       "    </tr>\n",
       "    <tr>\n",
       "      <td>3</td>\n",
       "      <td>1717</td>\n",
       "      <td>756</td>\n",
       "      <td>140000</td>\n",
       "    </tr>\n",
       "    <tr>\n",
       "      <td>4</td>\n",
       "      <td>2198</td>\n",
       "      <td>1145</td>\n",
       "      <td>250000</td>\n",
       "    </tr>\n",
       "  </tbody>\n",
       "</table>\n",
       "</div>"
      ],
      "text/plain": [
       "   GrLivArea  TotalBsmtSF  SalePrice\n",
       "0       1710          856     208500\n",
       "1       1262         1262     181500\n",
       "2       1786          920     223500\n",
       "3       1717          756     140000\n",
       "4       2198         1145     250000"
      ]
     },
     "execution_count": 9,
     "metadata": {},
     "output_type": "execute_result"
    }
   ],
   "source": [
    "df.head()"
   ]
  },
  {
   "cell_type": "code",
   "execution_count": 10,
   "metadata": {},
   "outputs": [],
   "source": [
    "# Data Scaling\n",
    "x_GArea = preprocessing.scale(df['GrLivArea'])\n",
    "x_BArea = preprocessing.scale(df['TotalBsmtSF'])\n",
    "y = preprocessing.scale(df['SalePrice'])"
   ]
  },
  {
   "cell_type": "code",
   "execution_count": 11,
   "metadata": {},
   "outputs": [
    {
     "data": {
      "image/png": "[encoded data removed]",
      "text/plain": [
       "<Figure size 432x288 with 1 Axes>"
      ]
     },
     "metadata": {
      "needs_background": "light"
     },
     "output_type": "display_data"
    }
   ],
   "source": [
    "plt.scatter(x_BArea, y, label = 'B_Area')\n",
    "plt.scatter(x_GArea, y, label = 'G_Area')\n",
    "plt.legend(fontsize=15)\n",
    "plt.xlabel('Ground Living Area & Basement Area', fontsize=15)\n",
    "plt.ylabel('SalePrice', fontsize=15)\n",
    "plt.legend()\n",
    "plt.show()"
   ]
  },
  {
   "cell_type": "code",
   "execution_count": 12,
   "metadata": {},
   "outputs": [],
   "source": [
    "# Graident descent parameters\n",
    "x = np.c_[np.ones(x_GArea.shape[0]),x_GArea, x_BArea] # input parameters with additional column for theta 0\n",
    "alpha = 0.0001 # learning rate\n",
    "m = y.size # number of samples\n",
    "np.random.seed(10)\n",
    "theta = np.random.rand(3)"
   ]
  },
  {
   "cell_type": "markdown",
   "metadata": {},
   "source": [
    "## Gradient Descent Cost Funtion Optimization Function"
   ]
  },
  {
   "cell_type": "code",
   "execution_count": 13,
   "metadata": {},
   "outputs": [],
   "source": [
    "def gradient_descent(x, y, m, theta, aplha):\n",
    "    cost_list = [] # get all the calulated cost of the loss funtion\n",
    "    theta_list = [] # get all the theta values\n",
    "    prediction_list = [] # add all the prdicted values\n",
    "    run = True\n",
    "    cost_list.append(100000000) # intially update the some very high cost value\n",
    "    \n",
    "    i=0\n",
    "    while run:\n",
    "        prediction = np.dot(x, theta) # calculate using regression formula\n",
    "        prediction_list.append(prediction)\n",
    "        error = prediction - y # get erro by subtracting actual sles prive from predicted sales price\n",
    "        cost = 1/(2*m) * np.dot(error.T, error) #  (1/2m) * sum[(error)^2]\n",
    "        cost_list.append(cost)\n",
    "        theta = theta - (aplha * (1/m) * np.dot(x.T, error)) # alpha * (1/m) * sum[error*x]\n",
    "        theta_list.append(theta)\n",
    "        \n",
    "        if cost_list[i]-cost_list[i+1] < 1e-9:   # if cost function value is less than 10^(-9)\n",
    "            run = False\n",
    "        \n",
    "        i += 1\n",
    "    cost_list.pop(0)\n",
    "    return prediction_list, cost_list, theta_list"
   ]
  },
  {
   "cell_type": "code",
   "execution_count": 14,
   "metadata": {},
   "outputs": [],
   "source": [
    "prediction_list, cost_list, theta_list = gradient_descent(x, y, m, theta, alpha)"
   ]
  },
  {
   "cell_type": "code",
   "execution_count": 15,
   "metadata": {},
   "outputs": [],
   "source": [
    "theta = theta_list[-1]"
   ]
  },
  {
   "cell_type": "code",
   "execution_count": 16,
   "metadata": {},
   "outputs": [
    {
     "data": {
      "image/png": "[encoded data removed]",
      "text/plain": [
       "<Figure size 432x288 with 1 Axes>"
      ]
     },
     "metadata": {
      "needs_background": "light"
     },
     "output_type": "display_data"
    }
   ],
   "source": [
    "plt.title('Cost Function', size = 30)\n",
    "plt.xlabel('No. of iterations', size=20)\n",
    "plt.ylabel('Cost', size=20)\n",
    "plt.plot(cost_list)\n",
    "plt.show()"
   ]
  },
  {
   "cell_type": "code",
   "execution_count": 17,
   "metadata": {},
   "outputs": [],
   "source": [
    "# use equestion to get predicted sales price\n",
    "yp = theta[0] +theta[1]*x[:,1] + theta[2]*x[:,2]"
   ]
  },
  {
   "cell_type": "code",
   "execution_count": 18,
   "metadata": {},
   "outputs": [
    {
     "name": "stdout",
     "output_type": "stream",
     "text": [
      "Mean Square Error with equation of hyperplane : 0.391\n",
      "Mean Square Error with Gradient Descent prediction : 0.391\n"
     ]
    }
   ],
   "source": [
    "# compare mean squared errors\n",
    "MSE_equ = ((yp-y)**2).mean()  #Using equation of hyperplane\n",
    "MSE_GD = ((prediction_list[-1]-y)**2).mean()  #From Gradient Descent algorithm\n",
    "\n",
    "print('Mean Square Error with equation of hyperplane : {}'.format(round(MSE_equ,3)))\n",
    "print('Mean Square Error with Gradient Descent prediction : {}'.format(round(MSE_GD,3)))"
   ]
  },
  {
   "cell_type": "markdown",
   "metadata": {},
   "source": [
    "## Using Sci-kit learn Library"
   ]
  },
  {
   "cell_type": "code",
   "execution_count": 19,
   "metadata": {},
   "outputs": [],
   "source": [
    "## Using Sklearn Library\n",
    "from sklearn.linear_model import LinearRegression"
   ]
  },
  {
   "cell_type": "code",
   "execution_count": 20,
   "metadata": {},
   "outputs": [],
   "source": [
    "ys = df['SalePrice']\n",
    "xs = np.c_[x_GArea, x_BArea]\n",
    "\n",
    "# data scaling\n",
    "xs = preprocessing.scale(xs)\n",
    "ys = preprocessing.scale(ys)"
   ]
  },
  {
   "cell_type": "code",
   "execution_count": 21,
   "metadata": {},
   "outputs": [
    {
     "data": {
      "text/plain": [
       "((1460,), (1460, 2))"
      ]
     },
     "execution_count": 21,
     "metadata": {},
     "output_type": "execute_result"
    }
   ],
   "source": [
    "ys.shape, xs.shape"
   ]
  },
  {
   "cell_type": "code",
   "execution_count": 22,
   "metadata": {},
   "outputs": [],
   "source": [
    "# fitting the model\n",
    "lm = LinearRegression()\n",
    "\n",
    "lm = lm.fit(xs, ys)"
   ]
  },
  {
   "cell_type": "code",
   "execution_count": 23,
   "metadata": {},
   "outputs": [],
   "source": [
    "pred = lm.predict(xs)"
   ]
  },
  {
   "cell_type": "markdown",
   "metadata": {},
   "source": [
    "## Compare the results: Sci-kit learn vs Gradient Descent"
   ]
  },
  {
   "cell_type": "code",
   "execution_count": 24,
   "metadata": {},
   "outputs": [
    {
     "name": "stdout",
     "output_type": "stream",
     "text": [
      "Using Sci-kit learn\n",
      "Intercept : 0.0\n",
      "Theta_0 : 0.5416\n",
      "Theta_1 : 0.3672\n"
     ]
    }
   ],
   "source": [
    "intercept = lm.intercept_\n",
    "Theta_0 = lm.coef_[0]\n",
    "Theta_1 = lm.coef_[1]\n",
    "\n",
    "print(\"Using Sci-kit learn\")\n",
    "print('Intercept : {}'.format(round(intercept,3)))\n",
    "print('Theta_0 : {}'.format(round(Theta_0,4)))\n",
    "print('Theta_1 : {}'.format(round(Theta_1,4)))"
   ]
  },
  {
   "cell_type": "code",
   "execution_count": 25,
   "metadata": {},
   "outputs": [
    {
     "name": "stdout",
     "output_type": "stream",
     "text": [
      "Using Gradent Descent Optimization Algorithm\n",
      "Intercept : 0.0\n",
      "Theta_0 : 0.5375\n",
      "Theta_1 : 0.3713\n"
     ]
    }
   ],
   "source": [
    "# from Gradient descent\n",
    "print(\"Using Gradent Descent Optimization Algorithm\")\n",
    "print('Intercept : {}'.format(round(theta[0],3)))\n",
    "print('Theta_0 : {}'.format(round(theta[1],4)))\n",
    "print('Theta_1 : {}'.format(round(theta[2],4)))"
   ]
  },
  {
   "cell_type": "code",
   "execution_count": 26,
   "metadata": {},
   "outputs": [
    {
     "name": "stdout",
     "output_type": "stream",
     "text": [
      "R square from Sci-kit learn: 0.6091\n",
      "R square with Gradient Descent: 0.6091\n"
     ]
    }
   ],
   "source": [
    "# comparing scores\n",
    "r2_sk = lm.score(xs,ys)\n",
    "print('R square from Sci-kit learn: {}'.format(round(r2_sk,4)))\n",
    "\n",
    "r2 = 1 - (sum((y - prediction_list[-1])**2)) / (sum((y - y.mean())**2))\n",
    "print('R square with Gradient Descent: {}'.format(round(r2,4)))"
   ]
  }
 ],
 "metadata": {
  "kernelspec": {
   "display_name": "Python 3",
   "language": "python",
   "name": "python3"
  },
  "language_info": {
   "codemirror_mode": {
    "name": "ipython",
    "version": 3
   },
   "file_extension": ".py",
   "mimetype": "text/x-python",
   "name": "python",
   "nbconvert_exporter": "python",
   "pygments_lexer": "ipython3",
   "version": "3.7.3"
  }
 },
 "nbformat": 4,
 "nbformat_minor": 2
}
